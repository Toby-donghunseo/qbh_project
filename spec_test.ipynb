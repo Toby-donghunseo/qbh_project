{
 "cells": [
  {
   "cell_type": "code",
   "execution_count": 20,
   "metadata": {},
   "outputs": [],
   "source": [
    "import librosa\n",
    "from madmom.audio.signal import Signal\n",
    "from pathlib import Path\n",
    "import matplotlib.pyplot as plt\n",
    "import numpy as np\n",
    "import torch\n",
    "\n",
    "def spec_extraction(file_name, win_size):\n",
    "    # print(currentFilePath)\n",
    "\n",
    "    x_test = []\n",
    "\n",
    "    # y, sr = librosa.load(file_name, sr=8000)\n",
    "    # *********** madmom.Signal() is faster than librosa.load() ***********\n",
    "    y = Signal(file_name, sample_rate=8000, dtype=np.float32, num_channels=1)\n",
    "    S = librosa.core.stft(y, n_fft=1024, hop_length=80*1, win_length=1024)\n",
    "    x_spec = np.abs(S)\n",
    "    x_spec = librosa.core.power_to_db(x_spec, ref=np.max)\n",
    "    x_spec = x_spec.astype(np.float32)\n",
    "    num_frames = x_spec.shape[1]\n",
    "\n",
    "    # for padding\n",
    "    padNum = num_frames % win_size\n",
    "    if padNum != 0:\n",
    "        len_pad = win_size - padNum\n",
    "        padding_feature = np.zeros(shape=(513, len_pad))\n",
    "        x_spec = np.concatenate((x_spec, padding_feature), axis=1)\n",
    "        num_frames = num_frames + len_pad\n",
    "\n",
    "    for j in range(0, num_frames, win_size):\n",
    "        x_test_tmp = x_spec[:, range(j, j + win_size)].T\n",
    "        x_test.append(x_test_tmp)\n",
    "    x_test = np.array(x_test)\n",
    "\n",
    "    # for normalization\n",
    "\n",
    "    x_train_mean = np.load('x_data_mean_total_31.npy')\n",
    "    x_train_std = np.load('x_data_std_total_31.npy')\n",
    "    x_test = (x_test-x_train_mean)/(x_train_std+0.0001)\n",
    "    x_test = x_test[:, :, :, np.newaxis]\n",
    "\n",
    "    return x_test, x_spec\n",
    "\n",
    "def spec_extraction_torch(file_name, win_size):\n",
    "    y = Signal(file_name, sample_rate=8000, dtype=np.float32, num_channels=1)\n",
    "    S = librosa.core.stft(y, n_fft=1024, hop_length=80*1, win_length=1024)\n",
    "    x_spec = np.abs(S)\n",
    "    x_spec = librosa.core.power_to_db(x_spec, ref=np.max)\n",
    "    x_spec = x_spec.astype(np.float32)\n",
    "    num_frames = x_spec.shape[1]\n",
    "    \n",
    "    \n",
    "    return"
   ]
  },
  {
   "cell_type": "code",
   "execution_count": 16,
   "metadata": {},
   "outputs": [],
   "source": [
    "file_name = '/home/svcapp/userdata/flo_new_music/audio_20201228/400/185/400185539.aac'"
   ]
  },
  {
   "cell_type": "code",
   "execution_count": 14,
   "metadata": {},
   "outputs": [],
   "source": [
    "x_test, x_spec = spec_extraction(path, win_size=31)"
   ]
  },
  {
   "cell_type": "code",
   "execution_count": 15,
   "metadata": {},
   "outputs": [
    {
     "data": {
      "text/plain": [
       "((680, 31, 513, 1), (513, 21080))"
      ]
     },
     "execution_count": 15,
     "metadata": {},
     "output_type": "execute_result"
    }
   ],
   "source": [
    "x_test.shape, x_spec.shape"
   ]
  },
  {
   "cell_type": "code",
   "execution_count": 17,
   "metadata": {},
   "outputs": [],
   "source": [
    "y = Signal(file_name, sample_rate=8000, dtype=np.float32, num_channels=1)\n",
    "S = librosa.core.stft(y, n_fft=1024, hop_length=80*1, win_length=1024)\n",
    "x_spec = np.abs(S)\n",
    "x_spec = librosa.core.power_to_db(x_spec, ref=np.max)\n",
    "x_spec = x_spec.astype(np.float32)\n",
    "num_frames = x_spec.shape[1]"
   ]
  },
  {
   "cell_type": "code",
   "execution_count": 22,
   "metadata": {},
   "outputs": [],
   "source": [
    "x_tensor = torch.Tensor(x_spec)"
   ]
  },
  {
   "cell_type": "code",
   "execution_count": 39,
   "metadata": {},
   "outputs": [
    {
     "data": {
      "text/plain": [
       "torch.Size([513, 680, 31, 1])"
      ]
     },
     "execution_count": 39,
     "metadata": {},
     "output_type": "execute_result"
    }
   ],
   "source": [
    "torch.nn.functional.pad(x_tensor, (0, 31 - x_spec.shape[1]%31)).reshape(513, -1, 31).unsqueeze(-1).shape"
   ]
  },
  {
   "cell_type": "code",
   "execution_count": 32,
   "metadata": {},
   "outputs": [
    {
     "data": {
      "text/plain": [
       "29"
      ]
     },
     "execution_count": 32,
     "metadata": {},
     "output_type": "execute_result"
    }
   ],
   "source": [
    "x_spec.shape[1]%31"
   ]
  },
  {
   "cell_type": "code",
   "execution_count": null,
   "metadata": {},
   "outputs": [],
   "source": []
  }
 ],
 "metadata": {
  "kernelspec": {
   "display_name": "Python 3",
   "language": "python",
   "name": "python3"
  },
  "language_info": {
   "codemirror_mode": {
    "name": "ipython",
    "version": 3
   },
   "file_extension": ".py",
   "mimetype": "text/x-python",
   "name": "python",
   "nbconvert_exporter": "python",
   "pygments_lexer": "ipython3",
   "version": "3.6.11"
  }
 },
 "nbformat": 4,
 "nbformat_minor": 4
}
